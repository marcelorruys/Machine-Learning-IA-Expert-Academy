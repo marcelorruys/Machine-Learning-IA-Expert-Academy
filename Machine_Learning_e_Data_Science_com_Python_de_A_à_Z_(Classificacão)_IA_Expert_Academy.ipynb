{
  "nbformat": 4,
  "nbformat_minor": 0,
  "metadata": {
    "colab": {
      "provenance": [],
      "authorship_tag": "ABX9TyNNiNX77LCj8ZjpA1r/PjL9",
      "include_colab_link": true
    },
    "kernelspec": {
      "name": "python3",
      "display_name": "Python 3"
    },
    "language_info": {
      "name": "python"
    }
  },
  "cells": [
    {
      "cell_type": "markdown",
      "metadata": {
        "id": "view-in-github",
        "colab_type": "text"
      },
      "source": [
        "<a href=\"https://colab.research.google.com/github/marcelorruys/Machine-Learning-IA-Expert-Academy/blob/main/Machine_Learning_e_Data_Science_com_Python_de_A_%C3%A0_Z_(Classificac%C3%A3o)_IA_Expert_Academy.ipynb\" target=\"_parent\"><img src=\"https://colab.research.google.com/assets/colab-badge.svg\" alt=\"Open In Colab\"/></a>"
      ]
    },
    {
      "cell_type": "markdown",
      "source": [
        "#Machine Learning e Data Science com Python de A à Z (Classificacão) - IA Expert Academy"
      ],
      "metadata": {
        "id": "4NCYypb5fArY"
      }
    },
    {
      "cell_type": "markdown",
      "source": [
        "# Importação das bibliotecas"
      ],
      "metadata": {
        "id": "TTCNNSArfocs"
      }
    },
    {
      "cell_type": "code",
      "execution_count": null,
      "metadata": {
        "id": "zlCCZFv3e9I3"
      },
      "outputs": [],
      "source": [
        "!pip -q install plotly"
      ]
    },
    {
      "cell_type": "code",
      "source": [
        "!pip install yellowbrick"
      ],
      "metadata": {
        "id": "NQIyIMq0fUYy"
      },
      "execution_count": null,
      "outputs": []
    },
    {
      "cell_type": "code",
      "source": [
        "import pandas as pd\n",
        "import numpy as np\n",
        "import seaborn as sns\n",
        "import matplotlib.pyplot as plt\n",
        "import plotly.express as px"
      ],
      "metadata": {
        "id": "O8wqfm3VfZAp"
      },
      "execution_count": null,
      "outputs": []
    }
  ]
}